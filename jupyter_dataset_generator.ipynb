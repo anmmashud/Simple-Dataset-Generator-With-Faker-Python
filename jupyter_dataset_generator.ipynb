{
 "cells": [
  {
   "cell_type": "code",
   "execution_count": null,
   "id": "dcd7f827-af54-4112-946e-249a7e2a4f35",
   "metadata": {},
   "outputs": [],
   "source": []
  },
  {
   "cell_type": "code",
   "execution_count": null,
   "id": "7efa7d84-5aa8-44a8-bc3e-a4add688b54b",
   "metadata": {},
   "outputs": [],
   "source": [
    "# Installing libraries (run this once)\n",
    "!pip install pandas faker"
   ]
  },
  {
   "cell_type": "code",
   "execution_count": 1,
   "id": "c1c5cd71-f503-483e-bfd9-41a614330dd2",
   "metadata": {},
   "outputs": [
    {
     "name": "stdout",
     "output_type": "stream",
     "text": [
      "Requirement already satisfied: pandas in /home/mashud/anaconda3/lib/python3.12/site-packages (2.2.3)\n",
      "Requirement already satisfied: faker in /home/mashud/anaconda3/lib/python3.12/site-packages (37.1.0)\n",
      "Requirement already satisfied: numpy>=1.26.0 in /home/mashud/anaconda3/lib/python3.12/site-packages (from pandas) (1.26.4)\n",
      "Requirement already satisfied: python-dateutil>=2.8.2 in /home/mashud/anaconda3/lib/python3.12/site-packages (from pandas) (2.9.0.post0)\n",
      "Requirement already satisfied: pytz>=2020.1 in /home/mashud/anaconda3/lib/python3.12/site-packages (from pandas) (2024.1)\n",
      "Requirement already satisfied: tzdata>=2022.7 in /home/mashud/anaconda3/lib/python3.12/site-packages (from pandas) (2023.3)\n",
      "Requirement already satisfied: six>=1.5 in /home/mashud/anaconda3/lib/python3.12/site-packages (from python-dateutil>=2.8.2->pandas) (1.16.0)\n"
     ]
    }
   ],
   "source": [
    "\n",
    "# Importing libraries\n",
    "from faker import Faker\n",
    "import pandas as pd\n",
    "\n",
    "# Initialize Faker object\n",
    "fake = Faker()"
   ]
  },
  {
   "cell_type": "code",
   "execution_count": 2,
   "id": "2c83ae74-7c8b-44b9-aae8-ce4b8bb0c67c",
   "metadata": {},
   "outputs": [],
   "source": [
    "# Define the structure: column name -> faker method (as string)\n",
    "columns_to_generate = {\n",
    "    \"Name\": \"name\",\n",
    "    \"Email\": \"email\",\n",
    "    \"Phone\": \"phone_number\",\n",
    "    \"Address\": \"address\",\n",
    "    \"City\": \"city\",\n",
    "    \"Job\": \"job\",\n",
    "    # \"Company\": \"company\",\n",
    "    # \"Text\": \"text\",\n",
    "    # \"Paragraph\": \"paragraph\",\n",
    "    # \"Country\": \"country\",\n",
    "    # \"Postcode\": \"postcode\",\n",
    "    # \"Date\": \"date\",\n",
    "    # \"Date of Birth\": \"date_of_birth\",\n",
    "    # \"Credit Card\": \"credit_card_number\",\n",
    "    # \"SSN\": \"ssn\",\n",
    "    # \"IPv4\": \"ipv4\",\n",
    "    # \"MAC Address\": \"mac_address\",\n",
    "    # \"URL\": \"url\",\n",
    "    # \"User Agent\": \"user_agent\",\n",
    "    # \"File Name\": \"file_name\",\n",
    "    # \"UUID\": \"uuid4\",\n",
    "    # \"Password\": \"password\",\n",
    "    # You can add or remove columns as needed\n",
    "}"
   ]
  },
  {
   "cell_type": "code",
   "execution_count": 3,
   "id": "eb52f346-91e2-46b3-9881-fef30273e74a",
   "metadata": {},
   "outputs": [
    {
     "name": "stdin",
     "output_type": "stream",
     "text": [
      "Enter the number of rows you want in the dataset:  10\n"
     ]
    },
    {
     "data": {
      "text/html": [
       "<div>\n",
       "<style scoped>\n",
       "    .dataframe tbody tr th:only-of-type {\n",
       "        vertical-align: middle;\n",
       "    }\n",
       "\n",
       "    .dataframe tbody tr th {\n",
       "        vertical-align: top;\n",
       "    }\n",
       "\n",
       "    .dataframe thead th {\n",
       "        text-align: right;\n",
       "    }\n",
       "</style>\n",
       "<table border=\"1\" class=\"dataframe\">\n",
       "  <thead>\n",
       "    <tr style=\"text-align: right;\">\n",
       "      <th></th>\n",
       "      <th>Name</th>\n",
       "      <th>Email</th>\n",
       "      <th>Phone</th>\n",
       "      <th>Address</th>\n",
       "      <th>City</th>\n",
       "      <th>Job</th>\n",
       "    </tr>\n",
       "  </thead>\n",
       "  <tbody>\n",
       "    <tr>\n",
       "      <th>0</th>\n",
       "      <td>Brittany Hamilton</td>\n",
       "      <td>tbriggs@example.org</td>\n",
       "      <td>001-481-890-3590x106</td>\n",
       "      <td>924 David Mount Suite 405\\nRiverafort, IA 52765</td>\n",
       "      <td>East Jessica</td>\n",
       "      <td>Ophthalmologist</td>\n",
       "    </tr>\n",
       "    <tr>\n",
       "      <th>1</th>\n",
       "      <td>Gregory Peters</td>\n",
       "      <td>phernandez@example.org</td>\n",
       "      <td>694-471-9780x155</td>\n",
       "      <td>34473 Adam Manor\\nNew Christopherfurt, WI 27745</td>\n",
       "      <td>New Rachael</td>\n",
       "      <td>Press sub</td>\n",
       "    </tr>\n",
       "    <tr>\n",
       "      <th>2</th>\n",
       "      <td>Rhonda Adams</td>\n",
       "      <td>ilopez@example.net</td>\n",
       "      <td>891-909-0741x225</td>\n",
       "      <td>894 Richardson Curve\\nSouth Scott, KY 88751</td>\n",
       "      <td>Lake Bethany</td>\n",
       "      <td>Drilling engineer</td>\n",
       "    </tr>\n",
       "    <tr>\n",
       "      <th>3</th>\n",
       "      <td>Patrick Greene</td>\n",
       "      <td>georgefigueroa@example.net</td>\n",
       "      <td>3817277588</td>\n",
       "      <td>517 Erica Lane\\nPort Thomasshire, MP 81121</td>\n",
       "      <td>Michellemouth</td>\n",
       "      <td>Engineer, production</td>\n",
       "    </tr>\n",
       "    <tr>\n",
       "      <th>4</th>\n",
       "      <td>Jerry Davis</td>\n",
       "      <td>luis88@example.net</td>\n",
       "      <td>+1-283-919-6087</td>\n",
       "      <td>14601 Clarke Fort Suite 620\\nWest Brendanberg,...</td>\n",
       "      <td>Lake Tonyland</td>\n",
       "      <td>Intelligence analyst</td>\n",
       "    </tr>\n",
       "  </tbody>\n",
       "</table>\n",
       "</div>"
      ],
      "text/plain": [
       "                Name                       Email                 Phone  \\\n",
       "0  Brittany Hamilton         tbriggs@example.org  001-481-890-3590x106   \n",
       "1     Gregory Peters      phernandez@example.org      694-471-9780x155   \n",
       "2       Rhonda Adams          ilopez@example.net      891-909-0741x225   \n",
       "3     Patrick Greene  georgefigueroa@example.net            3817277588   \n",
       "4        Jerry Davis          luis88@example.net       +1-283-919-6087   \n",
       "\n",
       "                                             Address           City  \\\n",
       "0    924 David Mount Suite 405\\nRiverafort, IA 52765   East Jessica   \n",
       "1    34473 Adam Manor\\nNew Christopherfurt, WI 27745    New Rachael   \n",
       "2        894 Richardson Curve\\nSouth Scott, KY 88751   Lake Bethany   \n",
       "3         517 Erica Lane\\nPort Thomasshire, MP 81121  Michellemouth   \n",
       "4  14601 Clarke Fort Suite 620\\nWest Brendanberg,...  Lake Tonyland   \n",
       "\n",
       "                    Job  \n",
       "0       Ophthalmologist  \n",
       "1             Press sub  \n",
       "2     Drilling engineer  \n",
       "3  Engineer, production  \n",
       "4  Intelligence analyst  "
      ]
     },
     "execution_count": 3,
     "metadata": {},
     "output_type": "execute_result"
    }
   ],
   "source": [
    "# Take input from the user for how many rows they want\n",
    "row_count = int(input(\"Enter the number of rows you want in the dataset: \"))\n",
    "\n",
    "# Generate the dataset\n",
    "data = []\n",
    "for _ in range(row_count):\n",
    "    row = {col: getattr(fake, method)() for col, method in columns_to_generate.items()}\n",
    "    data.append(row)\n",
    "df = pd.DataFrame(data)\n",
    "# Display the first few rows to check\n",
    "df.head()"
   ]
  },
  {
   "cell_type": "code",
   "execution_count": null,
   "id": "48af74c6-bdae-44e2-af04-e80d79d765c1",
   "metadata": {},
   "outputs": [],
   "source": [
    "# Save to CSV file\n",
    "df.to_csv(\"custom_dataset.csv\", index=False)\n",
    "print(\"✅ Dataset saved as custom_dataset.csv\")"
   ]
  },
  {
   "cell_type": "code",
   "execution_count": null,
   "id": "cfc885c5-42cf-4c3b-a5c2-de81c4c04b80",
   "metadata": {},
   "outputs": [],
   "source": [
    "# Save to JSON file\n",
    "df.to_json(\"custom_dataset.json\", orient=\"records\", lines=True)\n",
    "print(\"✅ Dataset saved as custom_dataset.json\")"
   ]
  },
  {
   "cell_type": "code",
   "execution_count": null,
   "id": "ebc32085-ca95-4f38-ae22-de8091facb8b",
   "metadata": {},
   "outputs": [],
   "source": [
    "# Save to Excel file\n",
    "df.to_excel(\"custom_dataset.xlsx\", index=False)\n",
    "print(\"✅ Dataset saved as custom_dataset.xlsx\")"
   ]
  }
 ],
 "metadata": {
  "kernelspec": {
   "display_name": "Python 3 (ipykernel)",
   "language": "python",
   "name": "python3"
  },
  "language_info": {
   "codemirror_mode": {
    "name": "ipython",
    "version": 3
   },
   "file_extension": ".py",
   "mimetype": "text/x-python",
   "name": "python",
   "nbconvert_exporter": "python",
   "pygments_lexer": "ipython3",
   "version": "3.12.4"
  }
 },
 "nbformat": 4,
 "nbformat_minor": 5
}
